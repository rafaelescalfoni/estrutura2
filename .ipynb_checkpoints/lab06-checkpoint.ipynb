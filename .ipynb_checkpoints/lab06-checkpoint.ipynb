{
 "cells": [
  {
   "cell_type": "markdown",
   "metadata": {},
   "source": [
    "# Árvore B\n",
    "<em>Material inspirado nas transparências de aula da profa. Vanessa Braganholo e livro do prof Jayme</em>\n",
    "\n",
    "## Motivação\n",
    "Arquivos binários grandes\n",
    "* Busca sequencial é muito custosa\n",
    "* Se arquivo estiver ordenado pode-se fazer busca binária, mas para arquivos grandes ainda não é eficiente o suficiente\n",
    "\n",
    "É possível acelerar a busca usando duas técnicas: \n",
    "* Acesso via cálculo do endereço do registro (hashing) \n",
    "* Acesso via estrutura de dados auxiliar (índice)\n",
    "\n",
    "## Índice\n",
    "Índice é uma estrutura de dados que serve para localizar registros no arquivo de dados\n",
    "\n",
    "Cada entrada do índice contém \n",
    "* Valor da chave\n",
    "* Ponteiro para o arquivo de dados\n",
    "\n",
    "Pode-se pensar então em dois arquivos: \n",
    "* Um de índice\n",
    "* Um de dados\n",
    "\n",
    "Isso é eficiente?\n",
    "\n",
    "### Índice Plano\n",
    "\n",
    "<img src=\"./img/indice_plano.png\" height=\"60\" width=\"100\">\n"
   ]
  },
  {
   "cell_type": "code",
   "execution_count": null,
   "metadata": {},
   "outputs": [],
   "source": []
  },
  {
   "cell_type": "code",
   "execution_count": null,
   "metadata": {},
   "outputs": [],
   "source": []
  }
 ],
 "metadata": {
  "kernelspec": {
   "display_name": "Python 3",
   "language": "python",
   "name": "python3"
  },
  "language_info": {
   "codemirror_mode": {
    "name": "ipython",
    "version": 3
   },
   "file_extension": ".py",
   "mimetype": "text/x-python",
   "name": "python",
   "nbconvert_exporter": "python",
   "pygments_lexer": "ipython3",
   "version": "3.7.6"
  }
 },
 "nbformat": 4,
 "nbformat_minor": 4
}
